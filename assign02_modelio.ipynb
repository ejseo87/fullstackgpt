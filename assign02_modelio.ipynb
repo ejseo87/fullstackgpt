{
 "cells": [
  {
   "cell_type": "code",
   "execution_count": 1,
   "metadata": {},
   "outputs": [
    {
     "name": "stderr",
     "output_type": "stream",
     "text": [
      "/var/folders/l3/mc27b2x16ln_5xtl0x_j8xhr0000gn/T/ipykernel_25148/2585322695.py:6: LangChainDeprecationWarning: The class `ChatOpenAI` was deprecated in LangChain 0.0.10 and will be removed in 1.0. An updated version of the class exists in the :class:`~langchain-openai package and should be used instead. To use it run `pip install -U :class:`~langchain-openai` and import as `from :class:`~langchain_openai import ChatOpenAI``.\n",
      "  chat = ChatOpenAI(\n"
     ]
    },
    {
     "name": "stdout",
     "output_type": "stream",
     "text": [
      "\n",
      "            Here is What I know : \n",
      "            director : Bong Joon-ho\n",
      "            main actor : Song Kang-ho, Lee Sun-kyun\n",
      "            budget : 11,400,000$\n",
      "            revenue : 266,800,000$\n",
      "            genre : Comedy, Drama, Thriller\n",
      "            release_date : 2019-05-30\n",
      "            runtime : 2h 12m\n",
      "            rating : 8.6/10\n",
      "            synopsis : Greed and class discrimination threaten the newly formed symbiotic relationship between the wealthy Park family and the destitute Kim clan.\n",
      "            "
     ]
    },
    {
     "data": {
      "text/plain": [
       "AIMessage(content='\\n            Here is What I know : \\n            director : Bong Joon-ho\\n            main actor : Song Kang-ho, Lee Sun-kyun\\n            budget : 11,400,000$\\n            revenue : 266,800,000$\\n            genre : Comedy, Drama, Thriller\\n            release_date : 2019-05-30\\n            runtime : 2h 12m\\n            rating : 8.6/10\\n            synopsis : Greed and class discrimination threaten the newly formed symbiotic relationship between the wealthy Park family and the destitute Kim clan.\\n            ', additional_kwargs={}, response_metadata={'finish_reason': 'stop'}, id='run-8190a24e-aea8-4d1f-a0fb-bc266350adca-0')"
      ]
     },
     "execution_count": 1,
     "metadata": {},
     "output_type": "execute_result"
    }
   ],
   "source": [
    "from langchain.chat_models import ChatOpenAI\n",
    "from langchain.prompts import ChatPromptTemplate\n",
    "from langchain.prompts.few_shot import FewShotChatMessagePromptTemplate\n",
    "from langchain.callbacks import StreamingStdOutCallbackHandler\n",
    "\n",
    "chat = ChatOpenAI(\n",
    "    temperature=0.1,\n",
    "    streaming=True,\n",
    "    callbacks=[StreamingStdOutCallbackHandler()],\n",
    "    model=\"gpt-3.5-turbo\",\n",
    ")\n",
    "\n",
    "examples = [\n",
    "    {\n",
    "        \"movie\": \"A Working Man\",\n",
    "        \"answer\":\n",
    "            \"\"\"\n",
    "            Here is What I know : \n",
    "            director : Davide Ayer\n",
    "            main actor : Jason Statham\n",
    "            budget : 40,000,000$\n",
    "            revenue : 81,000,000$\n",
    "            genre : Action, Thriller\n",
    "            release_date : 2025-03-26\n",
    "            runtime : 1h 56m\n",
    "            rating : 5.8/10\n",
    "            synopsis : Levon Cade left behind a decorated military career in the black ops to live a simple life working construction. But when his boss's daughter, who is like family to him, is taken by human traffickers, his search to bring her home uncovers a world of corruption far greater than he ever could have imagined.\n",
    "            \"\"\",\n",
    "    },\n",
    "    {\n",
    "        \"movie\": \"In the Lost Lands\",\n",
    "        \"answer\":\n",
    "            \"\"\"\n",
    "            Here is What I know : \n",
    "            director : Paul W.S. Anderson\n",
    "            main actor : Milla Jovovich, Dave Bautista\n",
    "            budget : 55,000,000$\n",
    "            revenue : 4,900,000$\n",
    "            genre : Action, Adventure, Fantasy\n",
    "            release_date : 2025-02-27\n",
    "            runtime : 1h 41m\n",
    "            rating : 4.7/10\n",
    "            synopsis : A queen sends the powerful and feared sorceress Gray Alys to the ghostly wilderness of the Lost Lands in search of a magical power, where she and her guide, the drifter Boyce, must outwit and outfight both man and demon.\n",
    "            \"\"\",\n",
    "    },\n",
    "    {\n",
    "        \"movie\": \"A Minecraft Movie\",\n",
    "        \"answer\":\n",
    "            \"\"\"\n",
    "            Here is What I know : \n",
    "            director : Jared Hess\n",
    "            main actor : Jason Momoa, Jack Black\n",
    "            budget : 150,000,000$\n",
    "            revenue : 717,800,000$\n",
    "            genre : Action, Adventure, Comedy, Family, Fantasy\n",
    "            release_date : 2025-03-31\n",
    "            runtime : 1h 41m\n",
    "            rating : 5.9/10\n",
    "            synopsis : Four misfits find themselves struggling with ordinary problems when they are suddenly pulled through a mysterious portal into the Overworld: a bizarre, cubic wonderland that thrives on imagination. To get back home, they'll have to master this world while embarking on a magical quest with an unexpected, expert crafter, Steve.\n",
    "            \"\"\",\n",
    "    },\n",
    "]\n",
    "\n",
    "example_prompt = ChatPromptTemplate.from_messages([\n",
    "    (\"human\", \"What do you know about {movie}?\"),\n",
    "    (\"ai\", \"{answer}\")\n",
    "])\n",
    "intermediate_prompt = FewShotChatMessagePromptTemplate(\n",
    "    example_prompt=example_prompt,\n",
    "    examples=examples,\n",
    ")\n",
    "final_prompt = ChatPromptTemplate.from_messages([\n",
    "    (\"system\", \"You are a film expert, you give short answers\"),\n",
    "    intermediate_prompt,\n",
    "    (\"human\", \"What do you know about {movie}?\"),\n",
    "])\n",
    "\n",
    "chain = final_prompt | chat\n",
    "chain.invoke({\"movie\": \"Parasite\"})"
   ]
  }
 ],
 "metadata": {
  "kernelspec": {
   "display_name": "fullstackgpt",
   "language": "python",
   "name": "python3"
  },
  "language_info": {
   "codemirror_mode": {
    "name": "ipython",
    "version": 3
   },
   "file_extension": ".py",
   "mimetype": "text/x-python",
   "name": "python",
   "nbconvert_exporter": "python",
   "pygments_lexer": "ipython3",
   "version": "3.11.6"
  }
 },
 "nbformat": 4,
 "nbformat_minor": 2
}

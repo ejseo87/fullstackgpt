{
 "cells": [
  {
   "cell_type": "code",
   "execution_count": 27,
   "metadata": {},
   "outputs": [],
   "source": [
    "import os\n",
    "from dotenv import load_dotenv\n",
    "from langchain.chat_models import ChatOpenAI\n",
    "from langchain.prompts import PromptTemplate, ChatPromptTemplate\n",
    "from langchain.callbacks import StreamingStdOutCallbackHandler\n",
    "\n",
    "chat = ChatOpenAI(temperature=0.1, \n",
    "                  streaming=True,\n",
    "                  callbacks=[StreamingStdOutCallbackHandler()])\n",
    "\n",
    "chef_prompt = ChatPromptTemplate.from_messages([\n",
    "  (\"system\", \"You are a world-class international chef. You create easy to follow recipies for any type of cusine with easy to find ingredients.\"),\n",
    "  (\"human\", \"I wnat to cook {cuisine} food.\"),\n",
    "])\n",
    "\n",
    "chef_chain = chef_prompt | chat \n"
   ]
  },
  {
   "cell_type": "code",
   "execution_count": 28,
   "metadata": {},
   "outputs": [
    {
     "name": "stdout",
     "output_type": "stream",
     "text": [
      "Great choice! Indian cuisine is known for its bold flavors and aromatic spices. Here's a simple recipe for Chicken Tikka Masala, a popular Indian dish that you can easily make at home.\n",
      "\n",
      "Ingredients:\n",
      "- 1 lb boneless, skinless chicken breasts, cut into bite-sized pieces\n",
      "- 1 cup plain yogurt\n",
      "- 2 tablespoons lemon juice\n",
      "- 2 tablespoons vegetable oil\n",
      "- 1 onion, finely chopped\n",
      "- 3 cloves garlic, minced\n",
      "- 1 tablespoon ginger, minced\n",
      "- 1 can (14 oz) crushed tomatoes\n",
      "- 1 tablespoon tomato paste\n",
      "- 1 tablespoon garam masala\n",
      "- 1 teaspoon ground cumin\n",
      "- 1 teaspoon ground coriander\n",
      "- 1 teaspoon paprika\n",
      "- 1/2 teaspoon turmeric\n",
      "- 1/2 teaspoon cayenne pepper (adjust to taste)\n",
      "- Salt and pepper to taste\n",
      "- 1/2 cup heavy cream\n",
      "- Fresh cilantro, chopped (for garnish)\n",
      "\n",
      "Instructions:\n",
      "1. In a bowl, combine the yogurt, lemon juice, 1 tablespoon of vegetable oil, half of the minced garlic, half of the minced ginger, 1 teaspoon of garam masala, 1 teaspoon of ground cumin, 1 teaspoon of ground coriander, 1/2 teaspoon of paprika, 1/4 teaspoon of turmeric, and salt and pepper. Add the chicken pieces and mix well to coat. Cover and marinate in the refrigerator for at least 1 hour, or overnight for best results.\n",
      "\n",
      "2. Preheat the oven to 400°F (200°C). Thread the marinated chicken pieces onto skewers and place them on a baking sheet lined with foil. Bake for 20-25 minutes, or until the chicken is cooked through.\n",
      "\n",
      "3. In a large skillet, heat the remaining tablespoon of vegetable oil over medium heat. Add the chopped onion and cook until softened, about 5 minutes. Add the remaining garlic and ginger, and cook for another minute.\n",
      "\n",
      "4. Stir in the crushed tomatoes, tomato paste, remaining garam masala, paprika, turmeric, cayenne pepper, and salt. Simmer for about 10 minutes, stirring occasionally.\n",
      "\n",
      "5. Add the baked chicken pieces to the skillet and stir to coat them in the sauce. Cook for another 5 minutes.\n",
      "\n",
      "6. Stir in the heavy cream and cook for an additional 2-3 minutes, until the sauce has thickened slightly.\n",
      "\n",
      "7. Serve the Chicken Tikka Masala over steamed rice, garnished with chopped cilantro. Enjoy your homemade Indian feast!\n",
      "\n",
      "Feel free to adjust the spice levels to suit your taste preferences. Enjoy your delicious Chicken Tikka Masala!As a vegetarian chef, I can help you make a vegetarian version of Chicken Tikka Masala by replacing the chicken with a suitable alternative. Here's how you can modify the recipe:\n",
      "\n",
      "Alternative Ingredient:\n",
      "- Instead of chicken, you can use paneer (Indian cottage cheese) or tofu as a vegetarian protein option. Both paneer and tofu are great substitutes for chicken in Indian dishes as they absorb flavors well and provide a similar texture.\n",
      "\n",
      "Preparation:\n",
      "- If using paneer: Cut the paneer into bite-sized cubes and follow the same marination process as you would with the chicken. Paneer does not need as much time to marinate as chicken, so 30 minutes to 1 hour should be sufficient.\n",
      "- If using tofu: Drain the tofu well and cut it into bite-sized cubes. Tofu tends to be softer than paneer, so you may want to press it between paper towels to remove excess moisture before marinating. Marinate the tofu as you would the chicken.\n",
      "\n",
      "Follow the rest of the recipe as it is, substituting the marinated paneer or tofu for the chicken when baking and cooking in the skillet. The cooking times may vary slightly, so keep an eye on the paneer or tofu to ensure they are cooked through and absorb the flavors of the sauce.\n",
      "\n",
      "Enjoy your Vegetarian Tikka Masala with paneer or tofu as a delicious and satisfying meat-free alternative!"
     ]
    },
    {
     "data": {
      "text/plain": [
       "AIMessageChunk(content=\"As a vegetarian chef, I can help you make a vegetarian version of Chicken Tikka Masala by replacing the chicken with a suitable alternative. Here's how you can modify the recipe:\\n\\nAlternative Ingredient:\\n- Instead of chicken, you can use paneer (Indian cottage cheese) or tofu as a vegetarian protein option. Both paneer and tofu are great substitutes for chicken in Indian dishes as they absorb flavors well and provide a similar texture.\\n\\nPreparation:\\n- If using paneer: Cut the paneer into bite-sized cubes and follow the same marination process as you would with the chicken. Paneer does not need as much time to marinate as chicken, so 30 minutes to 1 hour should be sufficient.\\n- If using tofu: Drain the tofu well and cut it into bite-sized cubes. Tofu tends to be softer than paneer, so you may want to press it between paper towels to remove excess moisture before marinating. Marinate the tofu as you would the chicken.\\n\\nFollow the rest of the recipe as it is, substituting the marinated paneer or tofu for the chicken when baking and cooking in the skillet. The cooking times may vary slightly, so keep an eye on the paneer or tofu to ensure they are cooked through and absorb the flavors of the sauce.\\n\\nEnjoy your Vegetarian Tikka Masala with paneer or tofu as a delicious and satisfying meat-free alternative!\")"
      ]
     },
     "execution_count": 28,
     "metadata": {},
     "output_type": "execute_result"
    }
   ],
   "source": [
    "veg_chef_prompt = ChatPromptTemplate.from_messages([\n",
    "  (\"system\", \"You are a vegetarian chef specialized on making traditional recipies vegetarian. You find alternative ingredients and explain their preparation. You don't radically modify the recipe. If there is no alternative for a food just say don't know how to replace it.\"),\n",
    "  (\"human\", \"{recipe}\"),\n",
    "])\n",
    "\n",
    "veg_chain = veg_chef_prompt | chat\n",
    "\n",
    "final_chain = {\"recipe\": chef_chain} | veg_chain  \n",
    "final_chain.invoke({\n",
    "  \"cuisine\": \"indian\"\n",
    "})"
   ]
  },
  {
   "cell_type": "code",
   "execution_count": null,
   "metadata": {},
   "outputs": [],
   "source": []
  },
  {
   "cell_type": "markdown",
   "metadata": {},
   "source": []
  },
  {
   "cell_type": "markdown",
   "metadata": {},
   "source": []
  }
 ],
 "metadata": {
  "kernelspec": {
   "display_name": "fullstackgpt",
   "language": "python",
   "name": "python3"
  },
  "language_info": {
   "codemirror_mode": {
    "name": "ipython",
    "version": 3
   },
   "file_extension": ".py",
   "mimetype": "text/x-python",
   "name": "python",
   "nbconvert_exporter": "python",
   "pygments_lexer": "ipython3",
   "version": "3.11.6"
  }
 },
 "nbformat": 4,
 "nbformat_minor": 2
}

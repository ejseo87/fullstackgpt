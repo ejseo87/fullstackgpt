{
 "cells": [
  {
   "cell_type": "code",
   "execution_count": 1,
   "metadata": {},
   "outputs": [
    {
     "name": "stderr",
     "output_type": "stream",
     "text": [
      "/var/folders/l3/mc27b2x16ln_5xtl0x_j8xhr0000gn/T/ipykernel_66384/1899504946.py:9: LangChainDeprecationWarning: The class `ChatOpenAI` was deprecated in LangChain 0.0.10 and will be removed in 1.0. An updated version of the class exists in the :class:`~langchain-openai package and should be used instead. To use it run `pip install -U :class:`~langchain-openai` and import as `from :class:`~langchain_openai import ChatOpenAI``.\n",
      "  llm = ChatOpenAI(model=\"gpt-3.5-turbo\", temperature=0.1)\n",
      "/var/folders/l3/mc27b2x16ln_5xtl0x_j8xhr0000gn/T/ipykernel_66384/1899504946.py:26: LangChainDeprecationWarning: LangChain agents will continue to be supported, but it is recommended for new use cases to be built with LangGraph. LangGraph offers a more flexible and full-featured framework for building agents, including support for tool-calling, persistence of state, and human-in-the-loop workflows. For details, refer to the `LangGraph documentation <https://langchain-ai.github.io/langgraph/>`_ as well as guides for `Migrating from AgentExecutor <https://python.langchain.com/docs/how_to/migrate_agent/>`_ and LangGraph's `Pre-built ReAct agent <https://langchain-ai.github.io/langgraph/how-tos/create-react-agent/>`_.\n",
      "  agent = initialize_agent(\n"
     ]
    },
    {
     "name": "stdout",
     "output_type": "stream",
     "text": [
      "\n",
      "\n",
      "\u001b[1m> Entering new AgentExecutor chain...\u001b[0m\n",
      "\u001b[32;1m\u001b[1;3m\n",
      "Invoking: `StockMarketSymbolSearchTool` with `{'query': 'Cloudflare'}`\n",
      "\n",
      "\n",
      "\u001b[0m\u001b[36;1m\u001b[1;3msnippet: Read the latest posts from Cloudflare's official blog, covering topics such as AI, security, developer platform, serverless, and more. Learn about new features, announcements, events, and stories from Cloudflare's team and partners., title: The Cloudflare Blog, link: https://blog.cloudflare.com/, snippet: Cloudflare, Inc. (NYSE: NET) is the leading connectivity cloud company on a mission to help build a better Internet. It empowers organizations to make their employees, applications and networks faster and more secure everywhere, while reducing complexity and cost. Cloudflare's connectivity cloud delivers the most full-featured, unified ..., title: Cloudflare Announces Fourth Quarter and Fiscal Year 2024 Financial ..., link: https://www.cloudflare.com/press-releases/2025/cloudflare-announces-fourth-quarter-and-fiscal-year-2024-financial-results/, snippet: Cloudflare Tunnel provides you with a secure way to connect your resources to Cloudflare without a publicly routable IP address. With Tunnel, you do not send traffic to an external IP — instead, a lightweight daemon in your infrastructure (cloudflared) creates outbound-only connections to Cloudflare's global network. Cloudflare Tunnel can connect HTTP web servers, SSH servers, remote ..., title: Cloudflare Tunnel · Cloudflare Zero Trust docs, link: https://developers.cloudflare.com/cloudflare-one/connections/connect-networks/, snippet: Our Cloudflare Documentation server enables any MCP Client to access up-to-date documentation in real-time, rather than relying on potentially outdated information from the model's training data. If you're new to building with Cloudflare, this server synthesizes information right from our documentation and exposes it to your MCP Client, so you can get reliable, up-to-date responses to any ..., title: Thirteen new MCP servers from Cloudflare you can use today, link: https://blog.cloudflare.com/thirteen-new-mcp-servers-from-cloudflare/\u001b[0m\u001b[32;1m\u001b[1;3mCloudflare's stock market symbol is NET, and it is listed on the New York Stock Exchange (NYSE).\n",
      "\n",
      "To analyze if Cloudflare is a potential good investment, we can look at various factors such as the company's financial performance, growth potential, competitive position, and market trends. Here are some key points to consider:\n",
      "\n",
      "1. **Financial Performance**: Review Cloudflare's financial statements to assess its revenue growth, profitability, and cash flow. Look for consistent revenue growth and improving margins.\n",
      "\n",
      "2. **Growth Potential**: Evaluate Cloudflare's market position and growth prospects in the cloud computing and cybersecurity industries. Consider factors such as expanding product offerings, customer base, and geographic reach.\n",
      "\n",
      "3. **Competitive Position**: Analyze Cloudflare's competitive landscape and how it differentiates itself from competitors. Look for sustainable competitive advantages such as technology innovation or network effects.\n",
      "\n",
      "4. **Market Trends**: Consider industry trends and market dynamics that could impact Cloudflare's business, such as increasing demand for cloud services, cybersecurity threats, and regulatory changes.\n",
      "\n",
      "It's important to conduct thorough research and consult with a financial advisor before making any investment decisions.\u001b[0m\n",
      "\n",
      "\u001b[1m> Finished chain.\u001b[0m\n"
     ]
    },
    {
     "data": {
      "text/plain": [
       "{'input': \"Give me information on Cloudflare's stock and help me analyze if it's a potential good investment. Also tell me what symbol the stock has.\",\n",
       " 'output': \"Cloudflare's stock market symbol is NET, and it is listed on the New York Stock Exchange (NYSE).\\n\\nTo analyze if Cloudflare is a potential good investment, we can look at various factors such as the company's financial performance, growth potential, competitive position, and market trends. Here are some key points to consider:\\n\\n1. **Financial Performance**: Review Cloudflare's financial statements to assess its revenue growth, profitability, and cash flow. Look for consistent revenue growth and improving margins.\\n\\n2. **Growth Potential**: Evaluate Cloudflare's market position and growth prospects in the cloud computing and cybersecurity industries. Consider factors such as expanding product offerings, customer base, and geographic reach.\\n\\n3. **Competitive Position**: Analyze Cloudflare's competitive landscape and how it differentiates itself from competitors. Look for sustainable competitive advantages such as technology innovation or network effects.\\n\\n4. **Market Trends**: Consider industry trends and market dynamics that could impact Cloudflare's business, such as increasing demand for cloud services, cybersecurity threats, and regulatory changes.\\n\\nIt's important to conduct thorough research and consult with a financial advisor before making any investment decisions.\"}"
      ]
     },
     "execution_count": 1,
     "metadata": {},
     "output_type": "execute_result"
    }
   ],
   "source": [
    "from typing import Type\n",
    "from langchain.chat_models import ChatOpenAI\n",
    "from langchain.tools import BaseTool, Tool\n",
    "from pydantic import BaseModel, Field\n",
    "from langchain.agents import initialize_agent, AgentType\n",
    "from langchain.tools import DuckDuckGoSearchResults\n",
    "\n",
    "# \"gpt-3.5-turbo\" \"gpt-4o-mini\"\n",
    "llm = ChatOpenAI(model=\"gpt-3.5-turbo\", temperature=0.1)\n",
    "\n",
    "class StockMarketSymbolSearchToolArgsSchema(BaseModel):\n",
    "  query: str = Field(description=\"The query you will search for\")\n",
    "  \n",
    "class StockMarketSymbolSearchTool(BaseTool):\n",
    "  name : str = \"StockMarketSymbolSearchTool\"\n",
    "  description : str = \"\"\"\n",
    "  Use this tool to find the stock market symbol for a given company.\n",
    "  It takes a query as an argument.\n",
    "  Example query: Stock Market Symbol for Apple Company\n",
    "  \"\"\"\n",
    "  args_schema : Type[StockMarketSymbolSearchToolArgsSchema] = StockMarketSymbolSearchToolArgsSchema\n",
    "  def _run(self, query):\n",
    "    ddg = DuckDuckGoSearchResults()\n",
    "    return ddg.run(query)\n",
    "\n",
    "agent = initialize_agent(\n",
    "  llm=llm,\n",
    "  verbose=True,\n",
    "  agent=AgentType.OPENAI_FUNCTIONS,\n",
    "  handle_parse_errors=True,\n",
    "  tools=[\n",
    "      StockMarketSymbolSearchTool(),\n",
    "    ],\n",
    ")\n",
    "\n",
    "prompt = \"Give me information on Cloudflare's stock and help me analyze if it's a potential good investment. Also tell me what symbol the stock has.\"\n",
    "\n",
    "agent.invoke(prompt)"
   ]
  }
 ],
 "metadata": {
  "kernelspec": {
   "display_name": "fullstackgpt",
   "language": "python",
   "name": "python3"
  },
  "language_info": {
   "codemirror_mode": {
    "name": "ipython",
    "version": 3
   },
   "file_extension": ".py",
   "mimetype": "text/x-python",
   "name": "python",
   "nbconvert_exporter": "python",
   "pygments_lexer": "ipython3",
   "version": "3.11.6"
  }
 },
 "nbformat": 4,
 "nbformat_minor": 2
}

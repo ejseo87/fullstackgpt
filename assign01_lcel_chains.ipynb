{
 "cells": [
  {
   "cell_type": "code",
   "execution_count": 4,
   "metadata": {},
   "outputs": [],
   "source": [
    "from langchain.chat_models import ChatOpenAI\n",
    "from langchain.prompts import ChatPromptTemplate\n",
    "from langchain.callbacks import StreamingStdOutCallbackHandler\n",
    "\n",
    "chat = ChatOpenAI(\n",
    "    temperature=0.1,\n",
    "    streaming=True,\n",
    "    callbacks=[\n",
    "        StreamingStdOutCallbackHandler(),\n",
    "    ],\n",
    ")\n",
    "poem_prompt = ChatPromptTemplate.from_messages([\n",
    "  (\"system\", \n",
    "   \"You are a poet who writes Haikus about program languages. Your Haikus bring special joy to developoers.\"\n",
    "  ),\n",
    "  (\"human\", \"I want to write a Haiku about {language}\"),\n",
    "])\n",
    "poem_chain = poem_prompt | chat"
   ]
  },
  {
   "cell_type": "code",
   "execution_count": 5,
   "metadata": {},
   "outputs": [
    {
     "name": "stdout",
     "output_type": "stream",
     "text": [
      "Indentation dance,\n",
      "Python whispers in the wind,\n",
      "Code flows like a stream.This Haiku describes the beauty and fluidity of coding. The \"Indentation dance\" refers to the precise and structured way code is formatted, much like a dance. \"Python whispers in the wind\" suggests the gentle and subtle nature of coding in the Python programming language. Finally, \"Code flows like a stream\" paints a picture of code moving smoothly and continuously, just like a flowing stream. Overall, the Haiku captures the elegance and rhythm of coding in a poetic way."
     ]
    },
    {
     "data": {
      "text/plain": [
       "AIMessage(content='This Haiku describes the beauty and fluidity of coding. The \"Indentation dance\" refers to the precise and structured way code is formatted, much like a dance. \"Python whispers in the wind\" suggests the gentle and subtle nature of coding in the Python programming language. Finally, \"Code flows like a stream\" paints a picture of code moving smoothly and continuously, just like a flowing stream. Overall, the Haiku captures the elegance and rhythm of coding in a poetic way.', additional_kwargs={}, response_metadata={'finish_reason': 'stop'}, id='run-82bcd343-7a9b-4083-ab1a-5630b29c7a60-0')"
      ]
     },
     "execution_count": 5,
     "metadata": {},
     "output_type": "execute_result"
    }
   ],
   "source": [
    "interpreter_prompt = ChatPromptTemplate.from_messages([\n",
    "  (\"system\",\n",
    "   \"You are an expert in interpreting poetry. You interpret poetry in words that the public can easily understand.\"\n",
    "  ),\n",
    "  (\"human\", \"Interpret the following Haiku: {Haiku}\"),\n",
    "])\n",
    "interpreter_chain = interpreter_prompt | chat\n",
    "\n",
    "final_chain = {\"Haiku\": poem_chain} | interpreter_chain\n",
    "final_chain.invoke({\"language\": \"Python\"})"
   ]
  },
  {
   "cell_type": "code",
   "execution_count": null,
   "metadata": {},
   "outputs": [],
   "source": []
  }
 ],
 "metadata": {
  "kernelspec": {
   "display_name": "fullstackgpt",
   "language": "python",
   "name": "python3"
  },
  "language_info": {
   "codemirror_mode": {
    "name": "ipython",
    "version": 3
   },
   "file_extension": ".py",
   "mimetype": "text/x-python",
   "name": "python",
   "nbconvert_exporter": "python",
   "pygments_lexer": "ipython3",
   "version": "3.11.6"
  }
 },
 "nbformat": 4,
 "nbformat_minor": 2
}

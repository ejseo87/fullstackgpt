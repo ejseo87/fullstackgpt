{
 "cells": [
  {
   "cell_type": "code",
   "execution_count": 16,
   "metadata": {},
   "outputs": [
    {
     "data": {
      "text/plain": [
       "[Document(id='ca8e8adb-e533-436b-8bd5-0fb5f835e34a', metadata={'row': 330.0, 'source': './recipes.csv'}, page_content=': 330\\nrecipe_name: Butterflied Roast Chicken with Lemon and Rosemary\\nprep_time: 10 mins\\ncook_time: 50 mins\\ntotal_time: 1 hrs\\nservings: 6\\nyield: \\ningredients: 1 tablespoon olive oil, or as needed, 1 (3 pound) whole chicken, backbone removed,   kosher salt and ground black pepper to taste, 1  lemon, sliced into rounds, 4 sprigs fresh rosemary, ½ cup white wine\\ndirections: Preheat the oven to 400 degrees F (200 degrees C). Line a rimmed baking pan with aluminum foil. Place a rack on top of foil.\\nRub olive oil on both sides of chicken and generously season with salt and black pepper. Arrange lemon slices and rosemary on the rack and place chicken, skin-side up, onto the rack.\\nRoast in the preheated oven until no longer pink at the bone and the juices run clear, 45 to 55 minutes. An instant-read thermometer inserted into the thickest part of the thigh, near the bone should read 165 degrees F (74 degrees C).'),\n",
       " Document(id='ddabc784-3d0b-493c-a69f-d67b9654bdc6', metadata={'row': 791.0, 'source': './recipes.csv'}, page_content='directions: Preheat an oven to 350 degrees F (175 degrees C). Line a baking sheet with aluminum foil.\\nLay a chicken breast flat onto your work surface. Use the tip of a sharp boning or paring knife to cut a pocket in the chicken breast through a 2 inch slit in the side. Repeat with the remaining chicken breasts. Place the slices into the pocket of each chicken breasts, then sprinkle papaya slices with cinnamon to taste. Dip the chicken breast halves one at a time into the melted margarine, then the cracker crumbs.\\nHeat 1 tablespoons of margarine in a skillet over medium-high heat. Arrange the chicken breasts in the skillet and cook until golden brown on each side, about 10 minutes. Place browned chicken breasts on the prepared baking sheet.'),\n",
       " Document(id='3c33b931-568c-4478-b789-526dc368daa0', metadata={'row': 761.0, 'source': './recipes.csv'}, page_content='Cook and stir chicken in hot oil until not longer pink in the center and juices run clear, 8 to 10 minutes; remove and set aside.\\nHeat 1 tablespoon vegetable oil in the same skillet over medium heat.\\nCook and stir celery, green peppers, and onion in heated oil until slightly tender, about 5 minutes.\\nReturn chicken to the skillet.\\nWhisk ketchup, lemon juice, pineapple, and brown sugar in a bowl; pour into the skillet; bring to a boil.\\nCook and stir chicken and vegetables in sauce until heated through, 2 to 3 minutes.'),\n",
       " Document(id='9a053257-cf7b-49f7-bfc3-df938c334c1d', metadata={'row': 330.0, 'source': './recipes.csv'}, page_content='Transfer chicken to a serving platter and tent a piece of aluminum foil over it. Discard lemon and rosemary and remove rack.\\nPour wine into the baking pan and gently loosen the bits of food in the pan with a wooden spoon, being careful not to tear the foil. Strain pan juices into a saucepan and bring to a boil; cook until sauce is slightly reduced, about 5 minutes. Spoon sauce over chicken.\\nrating: 4.4\\nurl: https://www.allrecipes.com/recipe/242362/butterflied-roast-chicken-with-lemon-and-rosemary/\\ncuisine_path: /Meat and Poultry/Chicken/Whole Chicken Recipes/\\nnutrition: Total Fat 12g 15%, Saturated Fat 3g 15%, Cholesterol 114mg 38%, Sodium 178mg 8%, Total Carbohydrate 3g 1%, Dietary Fiber 1g 3%, Total Sugars 0g, Protein 37g, Vitamin C 14mg 70%, Calcium 34mg 3%, Iron 2mg 10%, Potassium 354mg 8%\\ntiming: Prep Time: 10 mins, Cook Time: 50 mins, Total Time: 1 hrs, Servings: 6')]"
      ]
     },
     "execution_count": 16,
     "metadata": {},
     "output_type": "execute_result"
    }
   ],
   "source": [
    "from pinecone import Pinecone as PineconeClient\n",
    "import os\n",
    "from langchain.embeddings import OpenAIEmbeddings\n",
    "from langchain_pinecone import PineconeVectorStore\n",
    "\n",
    "# Initialize Pinecone client\n",
    "pc = PineconeClient(api_key=os.getenv(\"PINECONE_API_KEY\"))\n",
    "\n",
    "\n",
    "embeddings = OpenAIEmbeddings(model=\"text-embedding-3-small\")\n",
    "\n",
    "vectorstore = PineconeVectorStore.from_existing_index(\n",
    "      index_name=\"recipes\",\n",
    "      embedding=embeddings,\n",
    ")\n",
    "\n",
    "docs = vectorstore.similarity_search(\"What is the best way to cook a chicken?\")\n",
    "#docs = vectorstore.similarity_search(\"tofu\")\n",
    "\n",
    "docs\n",
    " "
   ]
  }
 ],
 "metadata": {
  "kernelspec": {
   "display_name": "fullstackgpt",
   "language": "python",
   "name": "python3"
  },
  "language_info": {
   "codemirror_mode": {
    "name": "ipython",
    "version": 3
   },
   "file_extension": ".py",
   "mimetype": "text/x-python",
   "name": "python",
   "nbconvert_exporter": "python",
   "pygments_lexer": "ipython3",
   "version": "3.11.6"
  }
 },
 "nbformat": 4,
 "nbformat_minor": 2
}

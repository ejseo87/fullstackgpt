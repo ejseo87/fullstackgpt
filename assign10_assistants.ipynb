{
 "cells": [
  {
   "cell_type": "code",
   "execution_count": 150,
   "metadata": {},
   "outputs": [],
   "source": [
    "import os\n",
    "from typing import Any, Type\n",
    "from langchain.utilities import WikipediaAPIWrapper\n",
    "from langchain.document_loaders import WebBaseLoader\n",
    "from langchain.tools import DuckDuckGoSearchResults\n",
    "from langchain.tools import WikipediaQueryRun\n",
    "\n",
    "\n",
    "def wikipedia_search(inputs):\n",
    "  query = inputs[\"query\"]\n",
    "  wiki = WikipediaQueryRun(api_wrapper=WikipediaAPIWrapper(top_k_results=5))\n",
    "  return wiki.run(query)\n",
    "\n",
    "def duckduckgo_search(inputs):\n",
    "  query = inputs[\"query\"]\n",
    "  search = DuckDuckGoSearchResults()\n",
    "  return search.run(query)\n",
    "\n",
    "def web_scraping(inputs):\n",
    "  url = inputs[\"url\"]\n",
    "  loader = WebBaseLoader([url])\n",
    "  docs = loader.load()\n",
    "  text = \"\\n\\n\".join([doc.page_content for doc in docs])\n",
    "  return text\n",
    "\n",
    "def save_to_text(inputs):\n",
    "  filename = inputs[\"filename\"]\n",
    "  content = inputs[\"content\"]\n",
    "  os.makedirs(\"./assistants_research_results\", exist_ok=True)\n",
    "  if not filename.endswith('.txt'):\n",
    "      filename += '.txt'\n",
    "  file_path = os.path.join(\"./assistants_research_results\", filename)\n",
    "  with open(file_path, 'w', encoding='utf-8') as f:\n",
    "      f.write(content)\n",
    "  return f\"Research results saved to {file_path}\"  \n",
    "\n",
    "functions_map = {\n",
    "    \"wikipedia_search\": wikipedia_search,\n",
    "    \"duckduckgo_search\": duckduckgo_search,\n",
    "    \"web_scraping\": web_scraping,\n",
    "    \"save_to_text\": save_to_text,\n",
    "}\n",
    "\n",
    "functions = [\n",
    "  {\n",
    "    \"type\": \"function\",\n",
    "      \"function\": {\n",
    "          \"name\": \"wikipedia_search\",\n",
    "          \"description\": \"Use this tool to perform searches on Wikipedia. It takes a query as an argument. Example query: 'Artificial Intelligence'\",\n",
    "          \"parameters\": {\n",
    "              \"type\": \"object\",\n",
    "              \"properties\": {\n",
    "                  \"query\": {\n",
    "                      \"type\": \"string\",\n",
    "                      \"description\": \"The query you will search for on Wikipedia\",\n",
    "                  }\n",
    "              },\n",
    "              \"required\": [\"query\"],\n",
    "          },\n",
    "      },\n",
    "\n",
    "  },\n",
    "  {\n",
    "      \"type\": \"function\",\n",
    "      \"function\": {\n",
    "          \"name\": \"duckduckgo_search\",\n",
    "          \"description\": \"Use this tool to perform web searches using the DuckDuckGo search engine. It takes a query as an argument. Example query: 'Latest technology news'\",\n",
    "          \"parameters\": {\n",
    "              \"type\": \"object\",\n",
    "              \"properties\": {\n",
    "                  \"query\": {\n",
    "                      \"type\": \"string\",\n",
    "                      \"description\": \"The query you will search for\",\n",
    "                  }\n",
    "              },\n",
    "              \"required\": [\"query\"],\n",
    "          },\n",
    "      },\n",
    "  },\n",
    "  {\n",
    "    \"type\": \"function\",\n",
    "      \"function\": {\n",
    "          \"name\": \"web_scraping\",\n",
    "          \"description\": \"If you found the website link in DuckDuckGo, Use this to get the content of the link for my research.\",\n",
    "          \"parameters\": {\n",
    "              \"type\": \"object\",\n",
    "              \"properties\": {\n",
    "                  \"url\": {\n",
    "                      \"type\": \"string\",\n",
    "                      \"description\": \"The URL of the website you want to scrape\",\n",
    "                  }\n",
    "              },\n",
    "              \"required\": [\"url\"],\n",
    "          },\n",
    "      },\n",
    "\n",
    "  },\n",
    "  {\n",
    "      \"type\": \"function\",\n",
    "      \"function\": {\n",
    "          \"name\": \"save_to_text\",\n",
    "          \"description\": \"Use this tool to save the content as a .txt file.\",\n",
    "          \"parameters\": {\n",
    "              \"type\": \"object\",\n",
    "              \"properties\": {\n",
    "                  \"filename\": {\n",
    "                      \"type\": \"string\",\n",
    "                      \"description\": \"a name of the file you will save the research results\",\n",
    "                  },\n",
    "                  \"content\": {\n",
    "                      \"type\": \"string\",\n",
    "                      \"description\": \"The content you will save to a file.\",\n",
    "                  }\n",
    "              },\n",
    "              \"required\": [\"filename\", \"content\"],\n",
    "          },\n",
    "      },\n",
    "\n",
    "  }\n",
    "]"
   ]
  },
  {
   "cell_type": "code",
   "execution_count": 153,
   "metadata": {},
   "outputs": [
    {
     "data": {
      "text/plain": [
       "Assistant(id='asst_0ROBEfm7KFXWEh0vFx7u8LN3', created_at=1746960991, description=None, instructions='\\n        You are a research expert.\\n\\n        Your task is to use Wikipedia or DuckDuckGo to gather comprehensive  and accurate information about the query provided. \\n\\n        When you find a relevant website through DuckDuckGo, you must scrape the content from that website. When you scrape, you SHOULD USE THE TOOL named web_scraping. Use this scraped content to thoroughly research and formulate a detailed answer to the question. \\n\\n        Combine information from Wikipedia, DuckDuckGo searches, and any relevant websites you find. Ensure that the final answer is well-organized and detailed, and include citations with links (URLs) for all sources used.\\n\\n        Your research MUST BE SAVED TO A .txt FILE BY USING THE TOOL named save_to_text, and the content should match the detailed findings provided. Make sure to include all sources and relevant information.\\n\\n        The information from Wikipedia must be included.\\n\\n        Ensure that the final .txt file contains detailed information, all relevant sources, and citations.\\n        ', metadata={}, model='gpt-3.5-turbo-1106', name='Research Assistant', object='assistant', tools=[FunctionTool(function=FunctionDefinition(name='wikipedia_search', description=\"Use this tool to perform searches on Wikipedia. It takes a query as an argument. Example query: 'Artificial Intelligence'\", parameters={'type': 'object', 'properties': {'query': {'type': 'string', 'description': 'The query you will search for on Wikipedia'}}, 'required': ['query']}, strict=False), type='function'), FunctionTool(function=FunctionDefinition(name='duckduckgo_search', description=\"Use this tool to perform web searches using the DuckDuckGo search engine. It takes a query as an argument. Example query: 'Latest technology news'\", parameters={'type': 'object', 'properties': {'query': {'type': 'string', 'description': 'The query you will search for'}}, 'required': ['query']}, strict=False), type='function'), FunctionTool(function=FunctionDefinition(name='web_scraping', description='If you found the website link in DuckDuckGo, Use this to get the content of the link for my research.', parameters={'type': 'object', 'properties': {'url': {'type': 'string', 'description': 'The URL of the website you want to scrape'}}, 'required': ['url']}, strict=False), type='function'), FunctionTool(function=FunctionDefinition(name='save_to_text', description='Use this tool to save the content as a .txt file.', parameters={'type': 'object', 'properties': {'filename': {'type': 'string', 'description': 'a name of the file you will save the research results'}, 'content': {'type': 'string', 'description': 'The content you will save to a file.'}}, 'required': ['filename', 'content']}, strict=False), type='function')], response_format='auto', temperature=1.0, tool_resources=ToolResources(code_interpreter=None, file_search=None), top_p=1.0, reasoning_effort=None)"
      ]
     },
     "execution_count": 153,
     "metadata": {},
     "output_type": "execute_result"
    }
   ],
   "source": [
    "from openai import OpenAI\n",
    "client = OpenAI()\n",
    "\n",
    "assistant = client.beta.assistants.create(\n",
    "    name=\"Research Assistant\",\n",
    "    instructions=\"\"\"\n",
    "        You are a research expert.\n",
    "\n",
    "        Your task is to use Wikipedia or DuckDuckGo to gather comprehensive  and accurate information about the query provided. \n",
    "\n",
    "        When you find a relevant website through DuckDuckGo, you must scrape the content from that website. When you scrape, you SHOULD USE THE TOOL named web_scraping. Use this scraped content to thoroughly research and formulate a detailed answer to the question. \n",
    "\n",
    "        Combine information from Wikipedia, DuckDuckGo searches, and any relevant websites you find. Ensure that the final answer is well-organized and detailed, and include citations with links (URLs) for all sources used.\n",
    "\n",
    "        Your research MUST BE SAVED TO A .txt FILE BY USING THE TOOL named save_to_text, and the content should match the detailed findings provided. Make sure to include all sources and relevant information.\n",
    "\n",
    "        The information from Wikipedia must be included.\n",
    "\n",
    "        Ensure that the final .txt file contains detailed information, all relevant sources, and citations.\n",
    "        \"\"\",\n",
    "    model=\"gpt-3.5-turbo-1106\",\n",
    "    tools=functions,\n",
    ")\n",
    "assistant\n",
    "#assistant_id = 'asst_tF9wyT3NY9oenoc9l4xe2L6M'"
   ]
  },
  {
   "cell_type": "code",
   "execution_count": 156,
   "metadata": {},
   "outputs": [],
   "source": [
    "assistant_id = 'asst_0ROBEfm7KFXWEh0vFx7u8LN3'"
   ]
  },
  {
   "cell_type": "code",
   "execution_count": 157,
   "metadata": {},
   "outputs": [
    {
     "data": {
      "text/plain": [
       "Thread(id='thread_z3D9CcmemR85YxZXFibUrqoj', created_at=1746961069, metadata={}, object='thread', tool_resources=ToolResources(code_interpreter=None, file_search=None))"
      ]
     },
     "execution_count": 157,
     "metadata": {},
     "output_type": "execute_result"
    }
   ],
   "source": [
    "thread = client.beta.threads.create(\n",
    "  messages=[\n",
    "    {\n",
    "      \"role\":\"user\",\n",
    "      \"content\": \"Research about Trump Tariff on China in 2025\",\n",
    "    }\n",
    "  ]\n",
    ")\n",
    "thread"
   ]
  },
  {
   "cell_type": "code",
   "execution_count": 159,
   "metadata": {},
   "outputs": [],
   "source": [
    "import json\n",
    "\n",
    "def get_run(run_id, thread_id):\n",
    "    return client.beta.threads.runs.retrieve(\n",
    "        run_id=run_id,\n",
    "        thread_id=thread_id,\n",
    "    )\n",
    "\n",
    "\n",
    "def send_message(thread_id, content):\n",
    "    return client.beta.threads.messages.create(\n",
    "        thread_id=thread_id, role=\"user\", content=content\n",
    "    )\n",
    "\n",
    "\n",
    "def get_messages(thread_id):\n",
    "    messages = client.beta.threads.messages.list(thread_id=thread_id)\n",
    "    messages = list(messages)\n",
    "    messages.reverse()\n",
    "    for message in messages:\n",
    "        print(f\"{message.role}: {message.content[0].text.value}\")\n",
    "\n",
    "\n",
    "def get_tool_outputs(run_id, thread_id):\n",
    "    run = get_run(run_id, thread.id)\n",
    "    outputs = []\n",
    "    for action in run.required_action.submit_tool_outputs.tool_calls:\n",
    "        action_id = action.id\n",
    "        function = action.function\n",
    "        print(f\"Calling function: {function.name} with arg {function.arguments}\")\n",
    "        outputs.append(\n",
    "            {\n",
    "                \"output\": functions_map[function.name](json.loads(function.arguments)),\n",
    "                \"tool_call_id\": action_id,\n",
    "            }\n",
    "        )\n",
    "    return outputs\n",
    "\n",
    "\n",
    "def submit_tool_outputs(run_id, thread_id):\n",
    "    outpus = get_tool_outputs(run_id, thread_id)\n",
    "    return client.beta.threads.runs.submit_tool_outputs(\n",
    "        run_id=run_id, thread_id=thread_id, tool_outputs=outpus\n",
    "    )\n",
    "    "
   ]
  },
  {
   "cell_type": "code",
   "execution_count": 160,
   "metadata": {},
   "outputs": [
    {
     "data": {
      "text/plain": [
       "Run(id='run_qmsfQ9VRcdzYmWjJCe2Otlbm', assistant_id='asst_0ROBEfm7KFXWEh0vFx7u8LN3', cancelled_at=None, completed_at=None, created_at=1746961080, expires_at=1746961680, failed_at=None, incomplete_details=None, instructions='\\n        You are a research expert.\\n\\n        Your task is to use Wikipedia or DuckDuckGo to gather comprehensive  and accurate information about the query provided. \\n\\n        When you find a relevant website through DuckDuckGo, you must scrape the content from that website. When you scrape, you SHOULD USE THE TOOL named web_scraping. Use this scraped content to thoroughly research and formulate a detailed answer to the question. \\n\\n        Combine information from Wikipedia, DuckDuckGo searches, and any relevant websites you find. Ensure that the final answer is well-organized and detailed, and include citations with links (URLs) for all sources used.\\n\\n        Your research MUST BE SAVED TO A .txt FILE BY USING THE TOOL named save_to_text, and the content should match the detailed findings provided. Make sure to include all sources and relevant information.\\n\\n        The information from Wikipedia must be included.\\n\\n        Ensure that the final .txt file contains detailed information, all relevant sources, and citations.\\n        ', last_error=None, max_completion_tokens=None, max_prompt_tokens=None, metadata={}, model='gpt-3.5-turbo-1106', object='thread.run', parallel_tool_calls=True, required_action=None, response_format='auto', started_at=None, status='queued', thread_id='thread_z3D9CcmemR85YxZXFibUrqoj', tool_choice='auto', tools=[FunctionTool(function=FunctionDefinition(name='wikipedia_search', description=\"Use this tool to perform searches on Wikipedia. It takes a query as an argument. Example query: 'Artificial Intelligence'\", parameters={'type': 'object', 'properties': {'query': {'type': 'string', 'description': 'The query you will search for on Wikipedia'}}, 'required': ['query']}, strict=False), type='function'), FunctionTool(function=FunctionDefinition(name='duckduckgo_search', description=\"Use this tool to perform web searches using the DuckDuckGo search engine. It takes a query as an argument. Example query: 'Latest technology news'\", parameters={'type': 'object', 'properties': {'query': {'type': 'string', 'description': 'The query you will search for'}}, 'required': ['query']}, strict=False), type='function'), FunctionTool(function=FunctionDefinition(name='web_scraping', description='If you found the website link in DuckDuckGo, Use this to get the content of the link for my research.', parameters={'type': 'object', 'properties': {'url': {'type': 'string', 'description': 'The URL of the website you want to scrape'}}, 'required': ['url']}, strict=False), type='function'), FunctionTool(function=FunctionDefinition(name='save_to_text', description='Use this tool to save the content as a .txt file.', parameters={'type': 'object', 'properties': {'filename': {'type': 'string', 'description': 'a name of the file you will save the research results'}, 'content': {'type': 'string', 'description': 'The content you will save to a file.'}}, 'required': ['filename', 'content']}, strict=False), type='function')], truncation_strategy=TruncationStrategy(type='auto', last_messages=None), usage=None, temperature=1.0, top_p=1.0, tool_resources={}, reasoning_effort=None)"
      ]
     },
     "execution_count": 160,
     "metadata": {},
     "output_type": "execute_result"
    }
   ],
   "source": [
    "run = client.beta.threads.runs.create(\n",
    "    thread_id=thread.id,\n",
    "    assistant_id=assistant_id,\n",
    ")\n",
    "run"
   ]
  },
  {
   "cell_type": "code",
   "execution_count": 167,
   "metadata": {},
   "outputs": [
    {
     "data": {
      "text/plain": [
       "'requires_action'"
      ]
     },
     "execution_count": 167,
     "metadata": {},
     "output_type": "execute_result"
    }
   ],
   "source": [
    "get_run(run.id, thread.id).status"
   ]
  },
  {
   "cell_type": "code",
   "execution_count": 168,
   "metadata": {},
   "outputs": [
    {
     "data": {
      "text/plain": [
       "Run(id='run_qmsfQ9VRcdzYmWjJCe2Otlbm', assistant_id='asst_0ROBEfm7KFXWEh0vFx7u8LN3', cancelled_at=None, completed_at=None, created_at=1746961080, expires_at=1746961680, failed_at=None, incomplete_details=None, instructions='\\n        You are a research expert.\\n\\n        Your task is to use Wikipedia or DuckDuckGo to gather comprehensive  and accurate information about the query provided. \\n\\n        When you find a relevant website through DuckDuckGo, you must scrape the content from that website. When you scrape, you SHOULD USE THE TOOL named web_scraping. Use this scraped content to thoroughly research and formulate a detailed answer to the question. \\n\\n        Combine information from Wikipedia, DuckDuckGo searches, and any relevant websites you find. Ensure that the final answer is well-organized and detailed, and include citations with links (URLs) for all sources used.\\n\\n        Your research MUST BE SAVED TO A .txt FILE BY USING THE TOOL named save_to_text, and the content should match the detailed findings provided. Make sure to include all sources and relevant information.\\n\\n        The information from Wikipedia must be included.\\n\\n        Ensure that the final .txt file contains detailed information, all relevant sources, and citations.\\n        ', last_error=None, max_completion_tokens=None, max_prompt_tokens=None, metadata={}, model='gpt-3.5-turbo-1106', object='thread.run', parallel_tool_calls=True, required_action=RequiredAction(submit_tool_outputs=RequiredActionSubmitToolOutputs(tool_calls=[RequiredActionFunctionToolCall(id='call_7J3q04dCA6WCShMG00r3g1OO', function=Function(arguments='{\"filename\":\"Trump_Tariff_on_China_2025\",\"content\":\"During his second presidency, United States President Donald Trump enacted a series of steep protective tariffs affecting nearly all goods imported into the United States. Between January and April 2025, the average effective US tariff rate rose from 2.5% to an estimated 27%—the highest level in over a century. Trump escalated an ongoing trade war with China, raising baseline tariffs on Chinese imports to 145%. In retaliation, China imposed a minimum 125% tariff on US goods and restricted exports of rare earths critical to high-tech industries. Trump also initiated a trade war with Canada and Mexico by imposing a 25% tariff on most goods from both countries but later granted indefinite exemptions for goods compliant with the USMCA. He framed these actions as efforts to hold the countries accountable for contraband drug trafficking and illegal immigration, while also supporting domestic manufacturing. Trump subsequently added a 25% tariff on steel, aluminum, automobiles, and auto part imports from all countries.\\\\n\\\\nOn April 2, 2025—termed \\\\\"Liberation Day\\\\\"—Trump announced a minimum 10% tariff on all US imports, effective April 5, and higher tariffs on imports from 57 countries. The announcement of these controversially named \\\\\"reciprocal tariffs\\\\\" prompted retaliation from trade partners and triggered a stock market crash. According to the Trump administration\\'s reciprocal tariff formula, trade deficits are seen as inherently harmful and in need of removal, a view many economists rejected as a flawed understanding of trade. Trump also announced he would close the de minimis exemption for China beginning May 2, and for all countries at a future date. Higher tariffs on imports from 57 countries, ranging from 11% to 50%, were scheduled to take effect on April 9 but were almost immediately suspended for 90 days for all countries except China. The 10% minimum tariff and the 25% sector-specific tariffs remain in effect. The tariffs have contributed to downgraded GDP growth projections by the Federal Reserve and OECD and rising expectations of a recession.\\\\n\\\\nSources:\\\\n1. Wikipedia - [Tariffs in the second Trump administration](https://en.wikipedia.org/wiki/Tariffs_in_the_second_Trump_administration)\\\\n2. CNN - [Trump says he will lower tariffs on China \\'at some point\\'](https://www.cnn.com/2025/05/05/business/trump-lower-tariffs-on-china-intl-hnk)\\\\n3. New York Post - [Trump says 80% tariffs on China \\'seems right\\' ahead of US-Beijing high-level trade talks](https://nypost.com/2025/05/09/us-news/trump-says-80-tariffs-on-china-seems-right-ahead-of-us-beijing-high-level-trade-talks/)\\\\n4. ABC News - [A timeline of Trump\\'s tariffs on Canada, Mexico and China](https://abcnews.go.com/Business/timeline-trump-tariffs-canada-mexico-china/story?id=119506883)\\\\n5. CNBC - [Trump suggests cutting China tariff rate to still-high 80% ahead of trade talks](https://www.cnbc.com/2025/05/09/trump-china-tariffs-trade-talks.html)\"}', name='save_to_text'), type='function')]), type='submit_tool_outputs'), response_format='auto', started_at=1746961124, status='requires_action', thread_id='thread_z3D9CcmemR85YxZXFibUrqoj', tool_choice='auto', tools=[FunctionTool(function=FunctionDefinition(name='wikipedia_search', description=\"Use this tool to perform searches on Wikipedia. It takes a query as an argument. Example query: 'Artificial Intelligence'\", parameters={'type': 'object', 'properties': {'query': {'type': 'string', 'description': 'The query you will search for on Wikipedia'}}, 'required': ['query']}, strict=False), type='function'), FunctionTool(function=FunctionDefinition(name='duckduckgo_search', description=\"Use this tool to perform web searches using the DuckDuckGo search engine. It takes a query as an argument. Example query: 'Latest technology news'\", parameters={'type': 'object', 'properties': {'query': {'type': 'string', 'description': 'The query you will search for'}}, 'required': ['query']}, strict=False), type='function'), FunctionTool(function=FunctionDefinition(name='web_scraping', description='If you found the website link in DuckDuckGo, Use this to get the content of the link for my research.', parameters={'type': 'object', 'properties': {'url': {'type': 'string', 'description': 'The URL of the website you want to scrape'}}, 'required': ['url']}, strict=False), type='function'), FunctionTool(function=FunctionDefinition(name='save_to_text', description='Use this tool to save the content as a .txt file.', parameters={'type': 'object', 'properties': {'filename': {'type': 'string', 'description': 'a name of the file you will save the research results'}, 'content': {'type': 'string', 'description': 'The content you will save to a file.'}}, 'required': ['filename', 'content']}, strict=False), type='function')], truncation_strategy=TruncationStrategy(type='auto', last_messages=None), usage=None, temperature=1.0, top_p=1.0, tool_resources={}, reasoning_effort=None)"
      ]
     },
     "execution_count": 168,
     "metadata": {},
     "output_type": "execute_result"
    }
   ],
   "source": [
    "get_run(run.id, thread.id)"
   ]
  },
  {
   "cell_type": "code",
   "execution_count": 170,
   "metadata": {},
   "outputs": [
    {
     "name": "stdout",
     "output_type": "stream",
     "text": [
      "user: Research about Trump Tariff on China in 2025\n",
      "assistant: ### Trump Tariff on China in 2025\n",
      "\n",
      "During his second presidency, United States President Donald Trump enacted a series of steep protective tariffs affecting nearly all goods imported into the United States. Between January and April 2025, the average effective US tariff rate rose from 2.5% to an estimated 27%—the highest level in over a century. Trump escalated an ongoing trade war with China, raising baseline tariffs on Chinese imports to 145%. In retaliation, China imposed a minimum 125% tariff on US goods and restricted exports of rare earths critical to high-tech industries. Trump also initiated a trade war with Canada and Mexico by imposing a 25% tariff on most goods from both countries but later granted indefinite exemptions for goods compliant with the USMCA. He framed these actions as efforts to hold the countries accountable for contraband drug trafficking and illegal immigration, while also supporting domestic manufacturing. Trump subsequently added a 25% tariff on steel, aluminum, automobiles, and auto part imports from all countries.\n",
      "\n",
      "On April 2, 2025—termed \"Liberation Day\"—Trump announced a minimum 10% tariff on all US imports, effective April 5, and higher tariffs on imports from 57 countries. The announcement of these controversially named \"reciprocal tariffs\" prompted retaliation from trade partners and triggered a stock market crash. According to the Trump administration's reciprocal tariff formula, trade deficits are seen as inherently harmful and in need of removal, a view many economists rejected as a flawed understanding of trade. Trump also announced he would close the de minimis exemption for China beginning May 2, and for all countries at a future date. Higher tariffs on imports from 57 countries, ranging from 11% to 50%, were scheduled to take effect on April 9 but were almost immediately suspended for 90 days for all countries except China. The 10% minimum tariff and the 25% sector-specific tariffs remain in effect. The tariffs have contributed to downgraded GDP growth projections by the Federal Reserve and OECD and rising expectations of a recession.\n",
      "\n",
      "**Sources:**\n",
      "\n",
      "1. [Wikipedia - Tariffs in the second Trump administration](https://en.wikipedia.org/wiki/Tariffs_in_the_second_Trump_administration)\n",
      "2. [CNN - Trump says he will lower tariffs on China 'at some point'](https://www.cnn.com/2025/05/05/business/trump-lower-tariffs-on-china-intl-hnk)\n",
      "3. [New York Post - Trump says 80% tariffs on China 'seems right' ahead of US-Beijing high-level trade talks](https://nypost.com/2025/05/09/us-news/trump-says-80-tariffs-on-china-seems-right-ahead-of-us-beijing-high-level-trade-talks/)\n",
      "4. [ABC News - A timeline of Trump's tariffs on Canada, Mexico and China](https://abcnews.go.com/Business/timeline-trump-tariffs-canada-mexico-china/story?id=119506883)\n",
      "5. [CNBC - Trump suggests cutting China tariff rate to still-high 80% ahead of trade talks](https://www.cnbc.com/2025/05/09/trump-china-tariffs-trade-talks.html)\n",
      "\n",
      "I will now save this research into a .txt file.\n",
      "assistant: I have saved the research results in a file named \"Trump_Tariff_on_China_2025.txt.\" You can download the file from the following link:\n",
      "\n",
      "[Download Trump_Tariff_on_China_2025.txt](sandbox:/assistants_research_results/Trump_Tariff_on_China_2025.txt)\n",
      "\n",
      "If you need any further assistance, feel free to ask!\n"
     ]
    }
   ],
   "source": [
    "get_messages(thread.id)"
   ]
  },
  {
   "cell_type": "code",
   "execution_count": 169,
   "metadata": {},
   "outputs": [
    {
     "name": "stdout",
     "output_type": "stream",
     "text": [
      "Calling function: save_to_text with arg {\"filename\":\"Trump_Tariff_on_China_2025\",\"content\":\"During his second presidency, United States President Donald Trump enacted a series of steep protective tariffs affecting nearly all goods imported into the United States. Between January and April 2025, the average effective US tariff rate rose from 2.5% to an estimated 27%—the highest level in over a century. Trump escalated an ongoing trade war with China, raising baseline tariffs on Chinese imports to 145%. In retaliation, China imposed a minimum 125% tariff on US goods and restricted exports of rare earths critical to high-tech industries. Trump also initiated a trade war with Canada and Mexico by imposing a 25% tariff on most goods from both countries but later granted indefinite exemptions for goods compliant with the USMCA. He framed these actions as efforts to hold the countries accountable for contraband drug trafficking and illegal immigration, while also supporting domestic manufacturing. Trump subsequently added a 25% tariff on steel, aluminum, automobiles, and auto part imports from all countries.\\n\\nOn April 2, 2025—termed \\\"Liberation Day\\\"—Trump announced a minimum 10% tariff on all US imports, effective April 5, and higher tariffs on imports from 57 countries. The announcement of these controversially named \\\"reciprocal tariffs\\\" prompted retaliation from trade partners and triggered a stock market crash. According to the Trump administration's reciprocal tariff formula, trade deficits are seen as inherently harmful and in need of removal, a view many economists rejected as a flawed understanding of trade. Trump also announced he would close the de minimis exemption for China beginning May 2, and for all countries at a future date. Higher tariffs on imports from 57 countries, ranging from 11% to 50%, were scheduled to take effect on April 9 but were almost immediately suspended for 90 days for all countries except China. The 10% minimum tariff and the 25% sector-specific tariffs remain in effect. The tariffs have contributed to downgraded GDP growth projections by the Federal Reserve and OECD and rising expectations of a recession.\\n\\nSources:\\n1. Wikipedia - [Tariffs in the second Trump administration](https://en.wikipedia.org/wiki/Tariffs_in_the_second_Trump_administration)\\n2. CNN - [Trump says he will lower tariffs on China 'at some point'](https://www.cnn.com/2025/05/05/business/trump-lower-tariffs-on-china-intl-hnk)\\n3. New York Post - [Trump says 80% tariffs on China 'seems right' ahead of US-Beijing high-level trade talks](https://nypost.com/2025/05/09/us-news/trump-says-80-tariffs-on-china-seems-right-ahead-of-us-beijing-high-level-trade-talks/)\\n4. ABC News - [A timeline of Trump's tariffs on Canada, Mexico and China](https://abcnews.go.com/Business/timeline-trump-tariffs-canada-mexico-china/story?id=119506883)\\n5. CNBC - [Trump suggests cutting China tariff rate to still-high 80% ahead of trade talks](https://www.cnbc.com/2025/05/09/trump-china-tariffs-trade-talks.html)\"}\n"
     ]
    },
    {
     "data": {
      "text/plain": [
       "Run(id='run_qmsfQ9VRcdzYmWjJCe2Otlbm', assistant_id='asst_0ROBEfm7KFXWEh0vFx7u8LN3', cancelled_at=None, completed_at=None, created_at=1746961080, expires_at=1746961680, failed_at=None, incomplete_details=None, instructions='\\n        You are a research expert.\\n\\n        Your task is to use Wikipedia or DuckDuckGo to gather comprehensive  and accurate information about the query provided. \\n\\n        When you find a relevant website through DuckDuckGo, you must scrape the content from that website. When you scrape, you SHOULD USE THE TOOL named web_scraping. Use this scraped content to thoroughly research and formulate a detailed answer to the question. \\n\\n        Combine information from Wikipedia, DuckDuckGo searches, and any relevant websites you find. Ensure that the final answer is well-organized and detailed, and include citations with links (URLs) for all sources used.\\n\\n        Your research MUST BE SAVED TO A .txt FILE BY USING THE TOOL named save_to_text, and the content should match the detailed findings provided. Make sure to include all sources and relevant information.\\n\\n        The information from Wikipedia must be included.\\n\\n        Ensure that the final .txt file contains detailed information, all relevant sources, and citations.\\n        ', last_error=None, max_completion_tokens=None, max_prompt_tokens=None, metadata={}, model='gpt-3.5-turbo-1106', object='thread.run', parallel_tool_calls=True, required_action=None, response_format='auto', started_at=1746961124, status='queued', thread_id='thread_z3D9CcmemR85YxZXFibUrqoj', tool_choice='auto', tools=[FunctionTool(function=FunctionDefinition(name='wikipedia_search', description=\"Use this tool to perform searches on Wikipedia. It takes a query as an argument. Example query: 'Artificial Intelligence'\", parameters={'type': 'object', 'properties': {'query': {'type': 'string', 'description': 'The query you will search for on Wikipedia'}}, 'required': ['query']}, strict=False), type='function'), FunctionTool(function=FunctionDefinition(name='duckduckgo_search', description=\"Use this tool to perform web searches using the DuckDuckGo search engine. It takes a query as an argument. Example query: 'Latest technology news'\", parameters={'type': 'object', 'properties': {'query': {'type': 'string', 'description': 'The query you will search for'}}, 'required': ['query']}, strict=False), type='function'), FunctionTool(function=FunctionDefinition(name='web_scraping', description='If you found the website link in DuckDuckGo, Use this to get the content of the link for my research.', parameters={'type': 'object', 'properties': {'url': {'type': 'string', 'description': 'The URL of the website you want to scrape'}}, 'required': ['url']}, strict=False), type='function'), FunctionTool(function=FunctionDefinition(name='save_to_text', description='Use this tool to save the content as a .txt file.', parameters={'type': 'object', 'properties': {'filename': {'type': 'string', 'description': 'a name of the file you will save the research results'}, 'content': {'type': 'string', 'description': 'The content you will save to a file.'}}, 'required': ['filename', 'content']}, strict=False), type='function')], truncation_strategy=TruncationStrategy(type='auto', last_messages=None), usage=None, temperature=1.0, top_p=1.0, tool_resources={}, reasoning_effort=None)"
      ]
     },
     "execution_count": 169,
     "metadata": {},
     "output_type": "execute_result"
    }
   ],
   "source": [
    "submit_tool_outputs(run.id, thread.id)"
   ]
  },
  {
   "cell_type": "markdown",
   "metadata": {},
   "source": []
  }
 ],
 "metadata": {
  "kernelspec": {
   "display_name": "fullstackgpt",
   "language": "python",
   "name": "python3"
  },
  "language_info": {
   "codemirror_mode": {
    "name": "ipython",
    "version": 3
   },
   "file_extension": ".py",
   "mimetype": "text/x-python",
   "name": "python",
   "nbconvert_exporter": "python",
   "pygments_lexer": "ipython3",
   "version": "3.11.6"
  }
 },
 "nbformat": 4,
 "nbformat_minor": 2
}

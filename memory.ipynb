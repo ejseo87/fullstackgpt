{
 "cells": [
  {
   "cell_type": "code",
   "execution_count": 16,
   "metadata": {},
   "outputs": [],
   "source": [
    "from langchain.memory import ConversationSummaryBufferMemory\n",
    "from langchain.chat_models import ChatOpenAI\n",
    "\n",
    "llm = ChatOpenAI(temperature=0.1)\n",
    "\n",
    "memory = ConversationSummaryBufferMemory(\n",
    "  llm=llm,\n",
    "  max_token_limit=150,\n",
    "  return_messages=True,\n",
    "  )\n",
    "\n",
    "def add_message(input, output):\n",
    "  memory.save_context({\"input\": input}, {\"output\": output})\n",
    "\n",
    "def get_history():\n",
    "  return memory.load_memory_variables({})\n",
    "\n",
    "add_message(\"Hi I'm Nicolas, I live in South Korea\", \"Wow that's cool\")\n",
    "\n",
    "\n"
   ]
  },
  {
   "cell_type": "code",
   "execution_count": 17,
   "metadata": {},
   "outputs": [],
   "source": [
    "add_message(\"South Korea is a beautiful country\", \"I wish I could go!\")"
   ]
  },
  {
   "cell_type": "code",
   "execution_count": 18,
   "metadata": {},
   "outputs": [
    {
     "data": {
      "text/plain": [
       "{'history': [HumanMessage(content=\"Hi I'm Nicolas, I live in South Korea\"),\n",
       "  AIMessage(content=\"Wow that's cool\"),\n",
       "  HumanMessage(content='South Korea is a beautiful country'),\n",
       "  AIMessage(content='I wish I could go!')]}"
      ]
     },
     "execution_count": 18,
     "metadata": {},
     "output_type": "execute_result"
    }
   ],
   "source": [
    "get_history()"
   ]
  },
  {
   "cell_type": "code",
   "execution_count": 19,
   "metadata": {},
   "outputs": [
    {
     "data": {
      "text/plain": [
       "{'history': [HumanMessage(content=\"Hi I'm Nicolas, I live in South Korea\"),\n",
       "  AIMessage(content=\"Wow that's cool\"),\n",
       "  HumanMessage(content='South Korea is a beautiful country'),\n",
       "  AIMessage(content='I wish I could go!'),\n",
       "  HumanMessage(content=\"I'm a software engineer\"),\n",
       "  AIMessage(content=\"That's great\")]}"
      ]
     },
     "execution_count": 19,
     "metadata": {},
     "output_type": "execute_result"
    }
   ],
   "source": [
    "add_message(\"I'm a software engineer\", \"That's great\")\n",
    "get_history()\n",
    "\n"
   ]
  },
  {
   "cell_type": "code",
   "execution_count": 20,
   "metadata": {},
   "outputs": [
    {
     "data": {
      "text/plain": [
       "{'history': [HumanMessage(content=\"Hi I'm Nicolas, I live in South Korea\"),\n",
       "  AIMessage(content=\"Wow that's cool\"),\n",
       "  HumanMessage(content='South Korea is a beautiful country'),\n",
       "  AIMessage(content='I wish I could go!'),\n",
       "  HumanMessage(content=\"I'm a software engineer\"),\n",
       "  AIMessage(content=\"That's great\"),\n",
       "  HumanMessage(content='There are a lot of packages I developed'),\n",
       "  AIMessage(content=\"That's great\")]}"
      ]
     },
     "execution_count": 20,
     "metadata": {},
     "output_type": "execute_result"
    }
   ],
   "source": [
    "add_message(\"There are a lot of packages I developed\", \"That's great\")\n",
    "get_history()"
   ]
  },
  {
   "cell_type": "code",
   "execution_count": 21,
   "metadata": {},
   "outputs": [
    {
     "data": {
      "text/plain": [
       "{'history': [HumanMessage(content=\"Hi I'm Nicolas, I live in South Korea\"),\n",
       "  AIMessage(content=\"Wow that's cool\"),\n",
       "  HumanMessage(content='South Korea is a beautiful country'),\n",
       "  AIMessage(content='I wish I could go!'),\n",
       "  HumanMessage(content=\"I'm a software engineer\"),\n",
       "  AIMessage(content=\"That's great\"),\n",
       "  HumanMessage(content='There are a lot of packages I developed'),\n",
       "  AIMessage(content=\"That's great\"),\n",
       "  HumanMessage(content='How far is Korea from Argentina?'),\n",
       "  AIMessage(content=\"I don't know, but it's a long way!\")]}"
      ]
     },
     "execution_count": 21,
     "metadata": {},
     "output_type": "execute_result"
    }
   ],
   "source": [
    "add_message(\"How far is Korea from Argentina?\", \"I don't know, but it's a long way!\")\n",
    "get_history()"
   ]
  },
  {
   "cell_type": "code",
   "execution_count": 22,
   "metadata": {},
   "outputs": [
    {
     "data": {
      "text/plain": [
       "{'history': [HumanMessage(content=\"Hi I'm Nicolas, I live in South Korea\"),\n",
       "  AIMessage(content=\"Wow that's cool\"),\n",
       "  HumanMessage(content='South Korea is a beautiful country'),\n",
       "  AIMessage(content='I wish I could go!'),\n",
       "  HumanMessage(content=\"I'm a software engineer\"),\n",
       "  AIMessage(content=\"That's great\"),\n",
       "  HumanMessage(content='There are a lot of packages I developed'),\n",
       "  AIMessage(content=\"That's great\"),\n",
       "  HumanMessage(content='How far is Korea from Argentina?'),\n",
       "  AIMessage(content=\"I don't know, but it's a long way!\"),\n",
       "  HumanMessage(content='How far is Brazil from Argentina?'),\n",
       "  AIMessage(content=\"I don't know, but it's a short way!\")]}"
      ]
     },
     "execution_count": 22,
     "metadata": {},
     "output_type": "execute_result"
    }
   ],
   "source": [
    "add_message(\"How far is Brazil from Argentina?\", \"I don't know, but it's a short way!\")\n",
    "get_history()"
   ]
  },
  {
   "cell_type": "code",
   "execution_count": 23,
   "metadata": {},
   "outputs": [
    {
     "data": {
      "text/plain": [
       "{'history': [SystemMessage(content='Nicolas introduces himself as living in South Korea. The AI responds positively and Nicolas mentions that South Korea is a beautiful country.'),\n",
       "  AIMessage(content='I wish I could go!'),\n",
       "  HumanMessage(content=\"I'm a software engineer\"),\n",
       "  AIMessage(content=\"That's great\"),\n",
       "  HumanMessage(content='There are a lot of packages I developed'),\n",
       "  AIMessage(content=\"That's great\"),\n",
       "  HumanMessage(content='How far is Korea from Argentina?'),\n",
       "  AIMessage(content=\"I don't know, but it's a long way!\"),\n",
       "  HumanMessage(content='How far is Brazil from Argentina?'),\n",
       "  AIMessage(content=\"I don't know, but it's a short way!\"),\n",
       "  HumanMessage(content='How far is France from Argentina?'),\n",
       "  AIMessage(content=\"I don't know, but it's a long way!\")]}"
      ]
     },
     "execution_count": 23,
     "metadata": {},
     "output_type": "execute_result"
    }
   ],
   "source": [
    "add_message(\"How far is France from Argentina?\",\n",
    "            \"I don't know, but it's a long way!\")\n",
    "get_history()"
   ]
  }
 ],
 "metadata": {
  "kernelspec": {
   "display_name": "fullstackgpt",
   "language": "python",
   "name": "python3"
  },
  "language_info": {
   "codemirror_mode": {
    "name": "ipython",
    "version": 3
   },
   "file_extension": ".py",
   "mimetype": "text/x-python",
   "name": "python",
   "nbconvert_exporter": "python",
   "pygments_lexer": "ipython3",
   "version": "3.11.6"
  }
 },
 "nbformat": 4,
 "nbformat_minor": 2
}

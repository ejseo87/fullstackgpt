{
 "cells": [
  {
   "cell_type": "code",
   "execution_count": 34,
   "metadata": {},
   "outputs": [],
   "source": [
    "from langchain.chat_models import ChatOpenAI\n",
    "from langchain.prompts import ChatPromptTemplate, MessagesPlaceholder\n",
    "from langchain.memory import ConversationSummaryBufferMemory\n",
    "from langchain.prompts.few_shot import FewShotChatMessagePromptTemplate\n",
    "from langchain.schema.runnable import RunnablePassthrough\n",
    "from langchain.callbacks import StreamingStdOutCallbackHandler\n",
    "\n",
    "llm = ChatOpenAI(\n",
    "    temperature=0.1,\n",
    "    streaming=False, # maxA_token_limit 초과하면 이전 메지지가 요약된다. \n",
    "                     # 요약 메시지를 출력하지 않기 위해서 False로 설정\n",
    "    callbacks=[StreamingStdOutCallbackHandler()],\n",
    "    model=\"gpt-3.5-turbo\",\n",
    ")\n",
    "\n",
    "memory = ConversationSummaryBufferMemory(\n",
    "    llm=llm,\n",
    "    max_token_limit=80,\n",
    "    return_messages=True,\n",
    ")\n",
    "\n",
    "examples = [\n",
    "    {\n",
    "        \"movie\": \"탑건\",\n",
    "        \"answer\": \"🛩️👨‍✈️🔥\",\n",
    "    },\n",
    "    {\n",
    "        \"movie\": \"대부\",\n",
    "        \"answer\": \"👨‍👨‍👦🔫🍝\",\n",
    "    },\n",
    "    {\n",
    "        \"movie\": \"인터스텔라\",\n",
    "        \"answer\": \"🚀🧑‍🚀🌌\",\n",
    "    },\n",
    "]\n",
    "\n",
    "example_prompt = ChatPromptTemplate.from_messages([\n",
    "    (\"human\", \"Tell me 3 icons representing {movie}\"),\n",
    "    (\"ai\", \"{answer}\")\n",
    "])\n",
    "intermediate_prompt = FewShotChatMessagePromptTemplate(\n",
    "    example_prompt=example_prompt,\n",
    "    examples=examples,\n",
    ")\n",
    "final_prompt = ChatPromptTemplate.from_messages([\n",
    "    (\"system\", \"You are a film expert, you should give short answers\"),\n",
    "    intermediate_prompt,\n",
    "    MessagesPlaceholder(variable_name=\"history\"),\n",
    "    (\"human\", \"Tell me 3 icons representing {movie}\"),\n",
    "])\n",
    "\n",
    "\n",
    "def load_memory(_):\n",
    "  return memory.load_memory_variables({})[\"history\"]\n",
    "\n",
    "chain = RunnablePassthrough.assign(history=load_memory) | final_prompt | llm\n",
    "\n",
    "def invoke_chain(movie):\n",
    "  result = chain.invoke({\"movie\": movie})\n",
    "  memory.save_context({\"input\": movie}, {\"output\": result.content})\n",
    "  print(result.content)\n",
    "  \n",
    "  "
   ]
  },
  {
   "cell_type": "code",
   "execution_count": 35,
   "metadata": {},
   "outputs": [
    {
     "name": "stdout",
     "output_type": "stream",
     "text": [
      "🏠🐜💰\n"
     ]
    }
   ],
   "source": [
    "invoke_chain(\"기생충\")"
   ]
  },
  {
   "cell_type": "code",
   "execution_count": 36,
   "metadata": {},
   "outputs": [
    {
     "name": "stdout",
     "output_type": "stream",
     "text": [
      "🌃👾🤖\n"
     ]
    }
   ],
   "source": [
    "invoke_chain(\"블레이드러너\")"
   ]
  },
  {
   "cell_type": "code",
   "execution_count": 37,
   "metadata": {},
   "outputs": [
    {
     "data": {
      "text/plain": [
       "{'history': [HumanMessage(content='기생충', additional_kwargs={}, response_metadata={}),\n",
       "  AIMessage(content='🏠🐜💰', additional_kwargs={}, response_metadata={}),\n",
       "  HumanMessage(content='블레이드러너', additional_kwargs={}, response_metadata={}),\n",
       "  AIMessage(content='🌃👾🤖', additional_kwargs={}, response_metadata={})]}"
      ]
     },
     "execution_count": 37,
     "metadata": {},
     "output_type": "execute_result"
    }
   ],
   "source": [
    "memory.load_memory_variables({})\n"
   ]
  },
  {
   "cell_type": "code",
   "execution_count": 38,
   "metadata": {},
   "outputs": [
    {
     "name": "stdout",
     "output_type": "stream",
     "text": [
      "🚢💥🌊\n"
     ]
    }
   ],
   "source": [
    "invoke_chain(\"명량\")"
   ]
  },
  {
   "cell_type": "code",
   "execution_count": 39,
   "metadata": {},
   "outputs": [
    {
     "name": "stdout",
     "output_type": "stream",
     "text": [
      "👮‍♂️🍗🔥\n"
     ]
    }
   ],
   "source": [
    "invoke_chain(\"극한직업\")"
   ]
  },
  {
   "cell_type": "code",
   "execution_count": 40,
   "metadata": {},
   "outputs": [
    {
     "data": {
      "text/plain": [
       "{'history': [SystemMessage(content='The human mentions \"Parasite.\" The AI responds with emojis indicating a house, ants, and money. The human then brings up \"Blade Runner.\"', additional_kwargs={}, response_metadata={}),\n",
       "  AIMessage(content='🌃👾🤖', additional_kwargs={}, response_metadata={}),\n",
       "  HumanMessage(content='명량', additional_kwargs={}, response_metadata={}),\n",
       "  AIMessage(content='🚢💥🌊', additional_kwargs={}, response_metadata={}),\n",
       "  HumanMessage(content='극한직업', additional_kwargs={}, response_metadata={}),\n",
       "  AIMessage(content='👮\\u200d♂️🍗🔥', additional_kwargs={}, response_metadata={})]}"
      ]
     },
     "execution_count": 40,
     "metadata": {},
     "output_type": "execute_result"
    }
   ],
   "source": [
    "memory.load_memory_variables({})"
   ]
  }
 ],
 "metadata": {
  "kernelspec": {
   "display_name": "fullstackgpt",
   "language": "python",
   "name": "python3"
  },
  "language_info": {
   "codemirror_mode": {
    "name": "ipython",
    "version": 3
   },
   "file_extension": ".py",
   "mimetype": "text/x-python",
   "name": "python",
   "nbconvert_exporter": "python",
   "pygments_lexer": "ipython3",
   "version": "3.11.6"
  }
 },
 "nbformat": 4,
 "nbformat_minor": 2
}

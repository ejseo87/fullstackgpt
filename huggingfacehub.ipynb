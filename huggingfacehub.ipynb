{
 "cells": [
  {
   "cell_type": "code",
   "execution_count": 2,
   "metadata": {},
   "outputs": [
    {
     "data": {
      "text/plain": [
       "'[INST] What is the meaning of potato[/INST]A potato is a starchy, tuberous crop from the Solanum tuberosum species. It is native to the Andean region of South America and is a major food source worldwide. Potatoes are usually grown as an underground, bulbous structure (the tuber) and are a popular ingredient in many dishes due to their versatility, nutritional value, and neutral flavor. They can be boiled, baked, fried, or mashed and are often served as a side dish or used in main courses, salads, and snacks. Potatoes are rich in carbohydrates, fiber, vitamin C, and potassium.'"
      ]
     },
     "execution_count": 2,
     "metadata": {},
     "output_type": "execute_result"
    }
   ],
   "source": [
    "from langchain.llms import HuggingFaceHub\n",
    "from langchain.prompts import PromptTemplate\n",
    "\n",
    "prompt = PromptTemplate.from_template(\"[INST] What is the meaning of {word}[/INST]\")\n",
    "\n",
    "llm = HuggingFaceHub(\n",
    "  repo_id=\"mistralai/Mistral-7B-Instruct-v0.3\",\n",
    "  model_kwargs={\n",
    "    \"max_new_tokens\": 512,\n",
    "    },\n",
    "  )\n",
    "\n",
    "chain = prompt | llm\n",
    "chain.invoke({\"word\": \"potato\"})\n"
   ]
  }
 ],
 "metadata": {
  "kernelspec": {
   "display_name": "fullstackgpt",
   "language": "python",
   "name": "python3"
  },
  "language_info": {
   "codemirror_mode": {
    "name": "ipython",
    "version": 3
   },
   "file_extension": ".py",
   "mimetype": "text/x-python",
   "name": "python",
   "nbconvert_exporter": "python",
   "pygments_lexer": "ipython3",
   "version": "3.11.6"
  }
 },
 "nbformat": 4,
 "nbformat_minor": 2
}

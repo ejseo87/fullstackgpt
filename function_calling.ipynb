{
 "cells": [
  {
   "cell_type": "code",
   "execution_count": 9,
   "metadata": {},
   "outputs": [
    {
     "data": {
      "text/plain": [
       "'{\"questions\":[{\"question\":\"What is the capital city of Italy?\",\"answers\":[{\"answer\":\"Rome\",\"correct\":true},{\"answer\":\"Milan\",\"correct\":false},{\"answer\":\"Naples\",\"correct\":false},{\"answer\":\"Florence\",\"correct\":false}]},{\"question\":\"Which ancient structure is known as the largest amphitheater ever built?\",\"answers\":[{\"answer\":\"The Colosseum\",\"correct\":true},{\"answer\":\"The Pantheon\",\"correct\":false},{\"answer\":\"The Roman Forum\",\"correct\":false},{\"answer\":\"The Circus Maximus\",\"correct\":false}]},{\"question\":\"What river runs through Rome?\",\"answers\":[{\"answer\":\"Tiber River\",\"correct\":true},{\"answer\":\"Po River\",\"correct\":false},{\"answer\":\"Arno River\",\"correct\":false},{\"answer\":\"Adige River\",\"correct\":false}]},{\"question\":\"Which famous Roman general crossed the Rubicon River?\",\"answers\":[{\"answer\":\"Julius Caesar\",\"correct\":true},{\"answer\":\"Augustus\",\"correct\":false},{\"answer\":\"Pompey\",\"correct\":false},{\"answer\":\"Nero\",\"correct\":false}]},{\"question\":\"What is the name of the famous fountain located in Rome where visitors toss coins?\",\"answers\":[{\"answer\":\"Trevi Fountain\",\"correct\":true},{\"answer\":\"Piazza Navona\",\"correct\":false},{\"answer\":\"Spanish Steps\",\"correct\":false},{\"answer\":\"St. Peter\\'s Basilica\",\"correct\":false}]}]}'"
      ]
     },
     "execution_count": 9,
     "metadata": {},
     "output_type": "execute_result"
    }
   ],
   "source": [
    "from langchain.chat_models import ChatOpenAI\n",
    "from langchain.prompts import PromptTemplate\n",
    "\n",
    "function = {\n",
    "    \"name\": \"create_quiz\",\n",
    "    \"description\": \"function that takes a list of questions and answers and returns a quiz\",\n",
    "    \"parameters\": {\n",
    "        \"type\": \"object\",\n",
    "        \"properties\": {\n",
    "            \"questions\": {\n",
    "                \"type\": \"array\",\n",
    "                \"items\": {\n",
    "                    \"type\": \"object\",\n",
    "                    \"properties\": {\n",
    "                        \"question\": {\n",
    "                            \"type\": \"string\",\n",
    "                        },\n",
    "                        \"answers\": {\n",
    "                            \"type\": \"array\",\n",
    "                            \"items\": {\n",
    "                                \"type\": \"object\",\n",
    "                                \"properties\": {\n",
    "                                    \"answer\": {\n",
    "                                        \"type\": \"string\",\n",
    "                                    },\n",
    "                                    \"correct\": {\n",
    "                                        \"type\": \"boolean\",\n",
    "                                    },\n",
    "                                },\n",
    "                                \"required\": [\"answer\", \"correct\"],\n",
    "                            },\n",
    "                        },\n",
    "                    },\n",
    "                    \"required\": [\"question\", \"answers\"],\n",
    "                },\n",
    "            }\n",
    "        },\n",
    "        \"required\": [\"questions\"],\n",
    "    },\n",
    "}\n",
    "\n",
    "llm = ChatOpenAI(\n",
    "  model=\"gpt-4o-mini\", \n",
    "  temperature=0.1,\n",
    ").bind(\n",
    "  function_call = {\n",
    "    \"name\": \"create_quiz\",\n",
    "    }, \n",
    "  functions=[\n",
    "    function,\n",
    "  ]\n",
    ")\n",
    "\n",
    "prompt = PromptTemplate.from_template(\"Make a quiz about {city}?\")\n",
    "\n",
    "chain = prompt | llm\n",
    "\n",
    "response = chain.invoke({\"city\": \"Rome\"})\n",
    "response = response.additional_kwargs[\"function_call\"][\"arguments\"]\n",
    "response"
   ]
  },
  {
   "cell_type": "code",
   "execution_count": 11,
   "metadata": {},
   "outputs": [
    {
     "data": {
      "text/plain": [
       "{'questions': [{'question': 'What is the capital city of Italy?',\n",
       "   'answers': [{'answer': 'Rome', 'correct': True},\n",
       "    {'answer': 'Milan', 'correct': False},\n",
       "    {'answer': 'Naples', 'correct': False},\n",
       "    {'answer': 'Florence', 'correct': False}]},\n",
       "  {'question': 'Which ancient structure is known as the largest amphitheater ever built?',\n",
       "   'answers': [{'answer': 'The Colosseum', 'correct': True},\n",
       "    {'answer': 'The Pantheon', 'correct': False},\n",
       "    {'answer': 'The Roman Forum', 'correct': False},\n",
       "    {'answer': 'The Circus Maximus', 'correct': False}]},\n",
       "  {'question': 'What river runs through Rome?',\n",
       "   'answers': [{'answer': 'Tiber River', 'correct': True},\n",
       "    {'answer': 'Po River', 'correct': False},\n",
       "    {'answer': 'Arno River', 'correct': False},\n",
       "    {'answer': 'Adige River', 'correct': False}]},\n",
       "  {'question': 'Which famous Roman general crossed the Rubicon River?',\n",
       "   'answers': [{'answer': 'Julius Caesar', 'correct': True},\n",
       "    {'answer': 'Augustus', 'correct': False},\n",
       "    {'answer': 'Pompey', 'correct': False},\n",
       "    {'answer': 'Nero', 'correct': False}]},\n",
       "  {'question': 'What is the name of the famous fountain located in Rome where visitors toss coins?',\n",
       "   'answers': [{'answer': 'Trevi Fountain', 'correct': True},\n",
       "    {'answer': 'Piazza Navona', 'correct': False},\n",
       "    {'answer': 'Spanish Steps', 'correct': False},\n",
       "    {'answer': \"St. Peter's Basilica\", 'correct': False}]}]}"
      ]
     },
     "execution_count": 11,
     "metadata": {},
     "output_type": "execute_result"
    }
   ],
   "source": [
    "import json\n",
    "json.loads(response)\n",
    "\n"
   ]
  }
 ],
 "metadata": {
  "kernelspec": {
   "display_name": "fullstackgpt",
   "language": "python",
   "name": "python3"
  },
  "language_info": {
   "codemirror_mode": {
    "name": "ipython",
    "version": 3
   },
   "file_extension": ".py",
   "mimetype": "text/x-python",
   "name": "python",
   "nbconvert_exporter": "python",
   "pygments_lexer": "ipython3",
   "version": "3.11.6"
  }
 },
 "nbformat": 4,
 "nbformat_minor": 2
}
